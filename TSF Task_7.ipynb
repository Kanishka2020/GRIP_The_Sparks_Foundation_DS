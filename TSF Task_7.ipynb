{
  "nbformat": 4,
  "nbformat_minor": 0,
  "metadata": {
    "colab": {
      "name": "TSF_Task-7.ipynb",
      "provenance": [],
      "toc_visible": true,
      "authorship_tag": "ABX9TyOC9F3x7UO8ViFe6OEWPmKG",
      "include_colab_link": true
    },
    "kernelspec": {
      "name": "python3",
      "display_name": "Python 3"
    }
  },
  "cells": [
    {
      "cell_type": "markdown",
      "metadata": {
        "id": "view-in-github",
        "colab_type": "text"
      },
      "source": [
        "<a href=\"https://colab.research.google.com/github/Kanishka2020/GripTSF/blob/main/TSF%20Task_7.ipynb\" target=\"_parent\"><img src=\"https://colab.research.google.com/assets/colab-badge.svg\" alt=\"Open In Colab\"/></a>"
      ]
    },
    {
      "cell_type": "markdown",
      "metadata": {
        "id": "2PzL2Kfq0-tI"
      },
      "source": [
        "#The Sparks Foundation - Data Science & Business Analytics Internship\r\n",
        "\r\n",
        "##Task - 7: \r\n",
        "\r\n",
        "- Objective: \r\n",
        "  Create a hybrid model for stock price/performance\r\n",
        "prediction using numerical analysis of historical stock prices, and\r\n",
        "sentimental analysis of news headlines.\r\n",
        "\r\n",
        "- Stock to analyze and predict - SENSEX (S&P BSE SENSEX)\r\n",
        "\r\n",
        "###Author : Kanishka Gour\r\n"
      ]
    },
    {
      "cell_type": "markdown",
      "metadata": {
        "id": "1pPTKjPp1LHv"
      },
      "source": [
        "##Import the Libraries and datasets"
      ]
    },
    {
      "cell_type": "code",
      "metadata": {
        "id": "FfnDEaFZ08-k"
      },
      "source": [
        "import pandas as pd\r\n",
        "import numpy as np\r\n",
        "import seaborn as sns\r\n",
        "import matplotlib.pyplot as plt\r\n",
        "%matplotlib inline"
      ],
      "execution_count": null,
      "outputs": []
    },
    {
      "cell_type": "code",
      "metadata": {
        "colab": {
          "base_uri": "https://localhost:8080/",
          "height": 249
        },
        "id": "J5SFuQT31Hmd",
        "outputId": "0329e4f2-e4db-477e-a6c4-7350b83e7957"
      },
      "source": [
        "new_col_names = ['Data', 'Category', 'News']\r\n",
        "news_df = pd.read_csv('india-news-headlines.csv', names=new_col_names)\r\n",
        "news_df.head()"
      ],
      "execution_count": null,
      "outputs": [
        {
          "output_type": "stream",
          "text": [
            "/usr/local/lib/python3.6/dist-packages/IPython/core/interactiveshell.py:2718: DtypeWarning: Columns (0) have mixed types.Specify dtype option on import or set low_memory=False.\n",
            "  interactivity=interactivity, compiler=compiler, result=result)\n"
          ],
          "name": "stderr"
        },
        {
          "output_type": "execute_result",
          "data": {
            "text/html": [
              "<div>\n",
              "<style scoped>\n",
              "    .dataframe tbody tr th:only-of-type {\n",
              "        vertical-align: middle;\n",
              "    }\n",
              "\n",
              "    .dataframe tbody tr th {\n",
              "        vertical-align: top;\n",
              "    }\n",
              "\n",
              "    .dataframe thead th {\n",
              "        text-align: right;\n",
              "    }\n",
              "</style>\n",
              "<table border=\"1\" class=\"dataframe\">\n",
              "  <thead>\n",
              "    <tr style=\"text-align: right;\">\n",
              "      <th></th>\n",
              "      <th>Data</th>\n",
              "      <th>Category</th>\n",
              "      <th>News</th>\n",
              "    </tr>\n",
              "  </thead>\n",
              "  <tbody>\n",
              "    <tr>\n",
              "      <th>0</th>\n",
              "      <td>publish_date</td>\n",
              "      <td>headline_category</td>\n",
              "      <td>headline_text</td>\n",
              "    </tr>\n",
              "    <tr>\n",
              "      <th>1</th>\n",
              "      <td>20010101</td>\n",
              "      <td>sports.wwe</td>\n",
              "      <td>win over cena satisfying but defeating underta...</td>\n",
              "    </tr>\n",
              "    <tr>\n",
              "      <th>2</th>\n",
              "      <td>20010102</td>\n",
              "      <td>unknown</td>\n",
              "      <td>Status quo will not be disturbed at Ayodhya; s...</td>\n",
              "    </tr>\n",
              "    <tr>\n",
              "      <th>3</th>\n",
              "      <td>20010102</td>\n",
              "      <td>unknown</td>\n",
              "      <td>Fissures in Hurriyat over Pak visit</td>\n",
              "    </tr>\n",
              "    <tr>\n",
              "      <th>4</th>\n",
              "      <td>20010102</td>\n",
              "      <td>unknown</td>\n",
              "      <td>America's unwanted heading for India?</td>\n",
              "    </tr>\n",
              "  </tbody>\n",
              "</table>\n",
              "</div>"
            ],
            "text/plain": [
              "           Data  ...                                               News\n",
              "0  publish_date  ...                                      headline_text\n",
              "1      20010101  ...  win over cena satisfying but defeating underta...\n",
              "2      20010102  ...  Status quo will not be disturbed at Ayodhya; s...\n",
              "3      20010102  ...                Fissures in Hurriyat over Pak visit\n",
              "4      20010102  ...              America's unwanted heading for India?\n",
              "\n",
              "[5 rows x 3 columns]"
            ]
          },
          "metadata": {
            "tags": []
          },
          "execution_count": 51
        }
      ]
    },
    {
      "cell_type": "markdown",
      "metadata": {
        "id": "CsgfEbjEq6pe"
      },
      "source": [
        "# New Section"
      ]
    },
    {
      "cell_type": "code",
      "metadata": {
        "colab": {
          "base_uri": "https://localhost:8080/",
          "height": 195
        },
        "id": "NvjWorCM1q_q",
        "outputId": "609ba4e3-76a8-4e99-aa9c-04535905ef12"
      },
      "source": [
        "news_df.drop(0, inplace=True)\r\n",
        "news_df.drop('Category', axis=1, inplace=True)\r\n",
        "news_df.head()"
      ],
      "execution_count": null,
      "outputs": [
        {
          "output_type": "execute_result",
          "data": {
            "text/html": [
              "<div>\n",
              "<style scoped>\n",
              "    .dataframe tbody tr th:only-of-type {\n",
              "        vertical-align: middle;\n",
              "    }\n",
              "\n",
              "    .dataframe tbody tr th {\n",
              "        vertical-align: top;\n",
              "    }\n",
              "\n",
              "    .dataframe thead th {\n",
              "        text-align: right;\n",
              "    }\n",
              "</style>\n",
              "<table border=\"1\" class=\"dataframe\">\n",
              "  <thead>\n",
              "    <tr style=\"text-align: right;\">\n",
              "      <th></th>\n",
              "      <th>Data</th>\n",
              "      <th>News</th>\n",
              "    </tr>\n",
              "  </thead>\n",
              "  <tbody>\n",
              "    <tr>\n",
              "      <th>1</th>\n",
              "      <td>20010101</td>\n",
              "      <td>win over cena satisfying but defeating underta...</td>\n",
              "    </tr>\n",
              "    <tr>\n",
              "      <th>2</th>\n",
              "      <td>20010102</td>\n",
              "      <td>Status quo will not be disturbed at Ayodhya; s...</td>\n",
              "    </tr>\n",
              "    <tr>\n",
              "      <th>3</th>\n",
              "      <td>20010102</td>\n",
              "      <td>Fissures in Hurriyat over Pak visit</td>\n",
              "    </tr>\n",
              "    <tr>\n",
              "      <th>4</th>\n",
              "      <td>20010102</td>\n",
              "      <td>America's unwanted heading for India?</td>\n",
              "    </tr>\n",
              "    <tr>\n",
              "      <th>5</th>\n",
              "      <td>20010102</td>\n",
              "      <td>For bigwigs; it is destination Goa</td>\n",
              "    </tr>\n",
              "  </tbody>\n",
              "</table>\n",
              "</div>"
            ],
            "text/plain": [
              "       Data                                               News\n",
              "1  20010101  win over cena satisfying but defeating underta...\n",
              "2  20010102  Status quo will not be disturbed at Ayodhya; s...\n",
              "3  20010102                Fissures in Hurriyat over Pak visit\n",
              "4  20010102              America's unwanted heading for India?\n",
              "5  20010102                 For bigwigs; it is destination Goa"
            ]
          },
          "metadata": {
            "tags": []
          },
          "execution_count": 52
        }
      ]
    },
    {
      "cell_type": "code",
      "metadata": {
        "colab": {
          "base_uri": "https://localhost:8080/",
          "height": 431
        },
        "id": "AJf1Q9Z-2_E8",
        "outputId": "9b3532b8-300f-45b5-e452-3b15d96c641d"
      },
      "source": [
        "import pandas_datareader as pdr\r\n",
        "\r\n",
        "stock_data = pdr.get_data_yahoo('AMZN', start='2017-01-01',end='2020-12-15')\r\n",
        "stock_data"
      ],
      "execution_count": null,
      "outputs": [
        {
          "output_type": "execute_result",
          "data": {
            "text/html": [
              "<div>\n",
              "<style scoped>\n",
              "    .dataframe tbody tr th:only-of-type {\n",
              "        vertical-align: middle;\n",
              "    }\n",
              "\n",
              "    .dataframe tbody tr th {\n",
              "        vertical-align: top;\n",
              "    }\n",
              "\n",
              "    .dataframe thead th {\n",
              "        text-align: right;\n",
              "    }\n",
              "</style>\n",
              "<table border=\"1\" class=\"dataframe\">\n",
              "  <thead>\n",
              "    <tr style=\"text-align: right;\">\n",
              "      <th></th>\n",
              "      <th>High</th>\n",
              "      <th>Low</th>\n",
              "      <th>Open</th>\n",
              "      <th>Close</th>\n",
              "      <th>Volume</th>\n",
              "      <th>Adj Close</th>\n",
              "    </tr>\n",
              "    <tr>\n",
              "      <th>Date</th>\n",
              "      <th></th>\n",
              "      <th></th>\n",
              "      <th></th>\n",
              "      <th></th>\n",
              "      <th></th>\n",
              "      <th></th>\n",
              "    </tr>\n",
              "  </thead>\n",
              "  <tbody>\n",
              "    <tr>\n",
              "      <th>2017-01-03</th>\n",
              "      <td>758.760010</td>\n",
              "      <td>747.700012</td>\n",
              "      <td>757.919983</td>\n",
              "      <td>753.669983</td>\n",
              "      <td>3521100</td>\n",
              "      <td>753.669983</td>\n",
              "    </tr>\n",
              "    <tr>\n",
              "      <th>2017-01-04</th>\n",
              "      <td>759.679993</td>\n",
              "      <td>754.200012</td>\n",
              "      <td>758.390015</td>\n",
              "      <td>757.179993</td>\n",
              "      <td>2510500</td>\n",
              "      <td>757.179993</td>\n",
              "    </tr>\n",
              "    <tr>\n",
              "      <th>2017-01-05</th>\n",
              "      <td>782.400024</td>\n",
              "      <td>760.260010</td>\n",
              "      <td>761.549988</td>\n",
              "      <td>780.450012</td>\n",
              "      <td>5830100</td>\n",
              "      <td>780.450012</td>\n",
              "    </tr>\n",
              "    <tr>\n",
              "      <th>2017-01-06</th>\n",
              "      <td>799.440002</td>\n",
              "      <td>778.479980</td>\n",
              "      <td>782.359985</td>\n",
              "      <td>795.989990</td>\n",
              "      <td>5986200</td>\n",
              "      <td>795.989990</td>\n",
              "    </tr>\n",
              "    <tr>\n",
              "      <th>2017-01-09</th>\n",
              "      <td>801.770020</td>\n",
              "      <td>791.770020</td>\n",
              "      <td>798.000000</td>\n",
              "      <td>796.919983</td>\n",
              "      <td>3446100</td>\n",
              "      <td>796.919983</td>\n",
              "    </tr>\n",
              "    <tr>\n",
              "      <th>...</th>\n",
              "      <td>...</td>\n",
              "      <td>...</td>\n",
              "      <td>...</td>\n",
              "      <td>...</td>\n",
              "      <td>...</td>\n",
              "      <td>...</td>\n",
              "    </tr>\n",
              "    <tr>\n",
              "      <th>2020-12-09</th>\n",
              "      <td>3174.429932</td>\n",
              "      <td>3088.000000</td>\n",
              "      <td>3167.889893</td>\n",
              "      <td>3104.199951</td>\n",
              "      <td>4100800</td>\n",
              "      <td>3104.199951</td>\n",
              "    </tr>\n",
              "    <tr>\n",
              "      <th>2020-12-10</th>\n",
              "      <td>3142.100098</td>\n",
              "      <td>3076.000000</td>\n",
              "      <td>3088.989990</td>\n",
              "      <td>3101.489990</td>\n",
              "      <td>3030200</td>\n",
              "      <td>3101.489990</td>\n",
              "    </tr>\n",
              "    <tr>\n",
              "      <th>2020-12-11</th>\n",
              "      <td>3118.669922</td>\n",
              "      <td>3072.820068</td>\n",
              "      <td>3096.659912</td>\n",
              "      <td>3116.419922</td>\n",
              "      <td>3064700</td>\n",
              "      <td>3116.419922</td>\n",
              "    </tr>\n",
              "    <tr>\n",
              "      <th>2020-12-14</th>\n",
              "      <td>3190.469971</td>\n",
              "      <td>3126.000000</td>\n",
              "      <td>3143.000000</td>\n",
              "      <td>3156.969971</td>\n",
              "      <td>4155800</td>\n",
              "      <td>3156.969971</td>\n",
              "    </tr>\n",
              "    <tr>\n",
              "      <th>2020-12-15</th>\n",
              "      <td>3188.500000</td>\n",
              "      <td>3130.489990</td>\n",
              "      <td>3181.010010</td>\n",
              "      <td>3165.120117</td>\n",
              "      <td>3323700</td>\n",
              "      <td>3165.120117</td>\n",
              "    </tr>\n",
              "  </tbody>\n",
              "</table>\n",
              "<p>996 rows × 6 columns</p>\n",
              "</div>"
            ],
            "text/plain": [
              "                   High          Low  ...   Volume    Adj Close\n",
              "Date                                  ...                      \n",
              "2017-01-03   758.760010   747.700012  ...  3521100   753.669983\n",
              "2017-01-04   759.679993   754.200012  ...  2510500   757.179993\n",
              "2017-01-05   782.400024   760.260010  ...  5830100   780.450012\n",
              "2017-01-06   799.440002   778.479980  ...  5986200   795.989990\n",
              "2017-01-09   801.770020   791.770020  ...  3446100   796.919983\n",
              "...                 ...          ...  ...      ...          ...\n",
              "2020-12-09  3174.429932  3088.000000  ...  4100800  3104.199951\n",
              "2020-12-10  3142.100098  3076.000000  ...  3030200  3101.489990\n",
              "2020-12-11  3118.669922  3072.820068  ...  3064700  3116.419922\n",
              "2020-12-14  3190.469971  3126.000000  ...  4155800  3156.969971\n",
              "2020-12-15  3188.500000  3130.489990  ...  3323700  3165.120117\n",
              "\n",
              "[996 rows x 6 columns]"
            ]
          },
          "metadata": {
            "tags": []
          },
          "execution_count": 53
        }
      ]
    },
    {
      "cell_type": "code",
      "metadata": {
        "id": "1Y3bC0394dmo"
      },
      "source": [
        "stock_data.to_csv('amzn.csv')"
      ],
      "execution_count": null,
      "outputs": []
    },
    {
      "cell_type": "code",
      "metadata": {
        "colab": {
          "base_uri": "https://localhost:8080/",
          "height": 195
        },
        "id": "nxtHcMjy5gj9",
        "outputId": "ee1a0df3-2785-4627-e7dd-28a303389365"
      },
      "source": [
        "df=pd.read_csv('amzn.csv')\r\n",
        "df.head()"
      ],
      "execution_count": null,
      "outputs": [
        {
          "output_type": "execute_result",
          "data": {
            "text/html": [
              "<div>\n",
              "<style scoped>\n",
              "    .dataframe tbody tr th:only-of-type {\n",
              "        vertical-align: middle;\n",
              "    }\n",
              "\n",
              "    .dataframe tbody tr th {\n",
              "        vertical-align: top;\n",
              "    }\n",
              "\n",
              "    .dataframe thead th {\n",
              "        text-align: right;\n",
              "    }\n",
              "</style>\n",
              "<table border=\"1\" class=\"dataframe\">\n",
              "  <thead>\n",
              "    <tr style=\"text-align: right;\">\n",
              "      <th></th>\n",
              "      <th>Date</th>\n",
              "      <th>High</th>\n",
              "      <th>Low</th>\n",
              "      <th>Open</th>\n",
              "      <th>Close</th>\n",
              "      <th>Volume</th>\n",
              "      <th>Adj Close</th>\n",
              "    </tr>\n",
              "  </thead>\n",
              "  <tbody>\n",
              "    <tr>\n",
              "      <th>0</th>\n",
              "      <td>2017-01-03</td>\n",
              "      <td>758.760010</td>\n",
              "      <td>747.700012</td>\n",
              "      <td>757.919983</td>\n",
              "      <td>753.669983</td>\n",
              "      <td>3521100</td>\n",
              "      <td>753.669983</td>\n",
              "    </tr>\n",
              "    <tr>\n",
              "      <th>1</th>\n",
              "      <td>2017-01-04</td>\n",
              "      <td>759.679993</td>\n",
              "      <td>754.200012</td>\n",
              "      <td>758.390015</td>\n",
              "      <td>757.179993</td>\n",
              "      <td>2510500</td>\n",
              "      <td>757.179993</td>\n",
              "    </tr>\n",
              "    <tr>\n",
              "      <th>2</th>\n",
              "      <td>2017-01-05</td>\n",
              "      <td>782.400024</td>\n",
              "      <td>760.260010</td>\n",
              "      <td>761.549988</td>\n",
              "      <td>780.450012</td>\n",
              "      <td>5830100</td>\n",
              "      <td>780.450012</td>\n",
              "    </tr>\n",
              "    <tr>\n",
              "      <th>3</th>\n",
              "      <td>2017-01-06</td>\n",
              "      <td>799.440002</td>\n",
              "      <td>778.479980</td>\n",
              "      <td>782.359985</td>\n",
              "      <td>795.989990</td>\n",
              "      <td>5986200</td>\n",
              "      <td>795.989990</td>\n",
              "    </tr>\n",
              "    <tr>\n",
              "      <th>4</th>\n",
              "      <td>2017-01-09</td>\n",
              "      <td>801.770020</td>\n",
              "      <td>791.770020</td>\n",
              "      <td>798.000000</td>\n",
              "      <td>796.919983</td>\n",
              "      <td>3446100</td>\n",
              "      <td>796.919983</td>\n",
              "    </tr>\n",
              "  </tbody>\n",
              "</table>\n",
              "</div>"
            ],
            "text/plain": [
              "         Date        High         Low  ...       Close   Volume   Adj Close\n",
              "0  2017-01-03  758.760010  747.700012  ...  753.669983  3521100  753.669983\n",
              "1  2017-01-04  759.679993  754.200012  ...  757.179993  2510500  757.179993\n",
              "2  2017-01-05  782.400024  760.260010  ...  780.450012  5830100  780.450012\n",
              "3  2017-01-06  799.440002  778.479980  ...  795.989990  5986200  795.989990\n",
              "4  2017-01-09  801.770020  791.770020  ...  796.919983  3446100  796.919983\n",
              "\n",
              "[5 rows x 7 columns]"
            ]
          },
          "metadata": {
            "tags": []
          },
          "execution_count": 55
        }
      ]
    },
    {
      "cell_type": "markdown",
      "metadata": {
        "id": "QDBErrJh5xPn"
      },
      "source": [
        "##Visualization"
      ]
    },
    {
      "cell_type": "code",
      "metadata": {
        "colab": {
          "base_uri": "https://localhost:8080/"
        },
        "id": "RIe_0WbP5tZB",
        "outputId": "bd696edf-291f-4ba2-8967-83989a845a6c"
      },
      "source": [
        "df_1 = df.reset_index()['Close']\r\n",
        "df_1.head()"
      ],
      "execution_count": null,
      "outputs": [
        {
          "output_type": "execute_result",
          "data": {
            "text/plain": [
              "0    753.669983\n",
              "1    757.179993\n",
              "2    780.450012\n",
              "3    795.989990\n",
              "4    796.919983\n",
              "Name: Close, dtype: float64"
            ]
          },
          "metadata": {
            "tags": []
          },
          "execution_count": 56
        }
      ]
    },
    {
      "cell_type": "code",
      "metadata": {
        "colab": {
          "base_uri": "https://localhost:8080/",
          "height": 282
        },
        "id": "1Zisx6wI6Oos",
        "outputId": "dee16761-e7e7-4b52-dcb0-1310b67da14c"
      },
      "source": [
        "plt.plot(df_1)"
      ],
      "execution_count": null,
      "outputs": [
        {
          "output_type": "execute_result",
          "data": {
            "text/plain": [
              "[<matplotlib.lines.Line2D at 0x7f03b1061ba8>]"
            ]
          },
          "metadata": {
            "tags": []
          },
          "execution_count": 57
        },
        {
          "output_type": "display_data",
          "data": {
            "image/png": "[encoded data removed]",
            "text/plain": [
              "<Figure size 432x288 with 1 Axes>"
            ]
          },
          "metadata": {
            "tags": [],
            "needs_background": "light"
          }
        }
      ]
    },
    {
      "cell_type": "markdown",
      "metadata": {
        "id": "fpFiWfLW6oim"
      },
      "source": [
        "##Data Processing"
      ]
    },
    {
      "cell_type": "code",
      "metadata": {
        "colab": {
          "base_uri": "https://localhost:8080/"
        },
        "id": "vCIbWjsA6hEv",
        "outputId": "134094e6-e18e-4dc6-c832-6d4add5b4754"
      },
      "source": [
        "from sklearn.preprocessing import MinMaxScaler\r\n",
        "scaler = MinMaxScaler(feature_range=(0,1))\r\n",
        "df_1 = scaler.fit_transform(np.array(df_1).reshape(-1,1))\r\n",
        "df_1"
      ],
      "execution_count": null,
      "outputs": [
        {
          "output_type": "execute_result",
          "data": {
            "text/plain": [
              "array([[0.        ],\n",
              "       [0.0012636 ],\n",
              "       [0.0096408 ],\n",
              "       [0.01523519],\n",
              "       [0.01556999],\n",
              "       [0.0152028 ],\n",
              "       [0.016326  ],\n",
              "       [0.02158919],\n",
              "       [0.02284919],\n",
              "       [0.02017798],\n",
              "       [0.01937158],\n",
              "       [0.01993318],\n",
              "       [0.0196776 ],\n",
              "       [0.02311559],\n",
              "       [0.02475719],\n",
              "       [0.02982599],\n",
              "       [0.03077279],\n",
              "       [0.02955599],\n",
              "       [0.02761559],\n",
              "       [0.02513158],\n",
              "       [0.02832478],\n",
              "       [0.03106079],\n",
              "       [0.02035079],\n",
              "       [0.0194292 ],\n",
              "       [0.02117879],\n",
              "       [0.0237744 ],\n",
              "       [0.02436838],\n",
              "       [0.02656439],\n",
              "       [0.02982959],\n",
              "       [0.02977919],\n",
              "       [0.03205079],\n",
              "       [0.03256919],\n",
              "       [0.03290398],\n",
              "       [0.03699718],\n",
              "       [0.03669837],\n",
              "       [0.03546718],\n",
              "       [0.03296518],\n",
              "       [0.03418918],\n",
              "       [0.03289317],\n",
              "       [0.03578758],\n",
              "       [0.03428637],\n",
              "       [0.03463558],\n",
              "       [0.03345837],\n",
              "       [0.03324599],\n",
              "       [0.03485878],\n",
              "       [0.03575878],\n",
              "       [0.03556439],\n",
              "       [0.03633119],\n",
              "       [0.03558959],\n",
              "       [0.03574797],\n",
              "       [0.03590997],\n",
              "       [0.03551038],\n",
              "       [0.03718797],\n",
              "       [0.03223079],\n",
              "       [0.03398038],\n",
              "       [0.03373558],\n",
              "       [0.03309837],\n",
              "       [0.03353398],\n",
              "       [0.03683878],\n",
              "       [0.04343397],\n",
              "       [0.04416118],\n",
              "       [0.04783316],\n",
              "       [0.04962237],\n",
              "       [0.05513757],\n",
              "       [0.05601957],\n",
              "       [0.05205958],\n",
              "       [0.05083557],\n",
              "       [0.05521315],\n",
              "       [0.05352836],\n",
              "       [0.05132156],\n",
              "       [0.04715996],\n",
              "       [0.05339516],\n",
              "       [0.05403957],\n",
              "       [0.05239077],\n",
              "       [0.05342036],\n",
              "       [0.05214958],\n",
              "       [0.05534635],\n",
              "       [0.05542196],\n",
              "       [0.05602315],\n",
              "       [0.05929556],\n",
              "       [0.06167515],\n",
              "       [0.07004154],\n",
              "       [0.06957715],\n",
              "       [0.06744956],\n",
              "       [0.06618956],\n",
              "       [0.06497276],\n",
              "       [0.07033314],\n",
              "       [0.07169395],\n",
              "       [0.07030076],\n",
              "       [0.06982195],\n",
              "       [0.07476474],\n",
              "       [0.07354794],\n",
              "       [0.07646395],\n",
              "       [0.06879236],\n",
              "       [0.07373514],\n",
              "       [0.07422116],\n",
              "       [0.07811994],\n",
              "       [0.07843314],\n",
              "       [0.08160473],\n",
              "       [0.08629554],\n",
              "       [0.08715955],\n",
              "       [0.08749074],\n",
              "       [0.08674194],\n",
              "       [0.08722074],\n",
              "       [0.09110153],\n",
              "       [0.09276114],\n",
              "       [0.08975874],\n",
              "       [0.09230394],\n",
              "       [0.09237594],\n",
              "       [0.08087034],\n",
              "       [0.07604634],\n",
              "       [0.08176313],\n",
              "       [0.08020793],\n",
              "       [0.07577994],\n",
              "       [0.08425435],\n",
              "       [0.08693993],\n",
              "       [0.08601115],\n",
              "       [0.08948153],\n",
              "       [0.08914673],\n",
              "       [0.09002513],\n",
              "       [0.08651153],\n",
              "       [0.08031955],\n",
              "       [0.08519755],\n",
              "       [0.08001354],\n",
              "       [0.07715875],\n",
              "       [0.07199634],\n",
              "       [0.07838275],\n",
              "       [0.07612915],\n",
              "       [0.08103235],\n",
              "       [0.08740793],\n",
              "       [0.08656554],\n",
              "       [0.09102234],\n",
              "       [0.08890554],\n",
              "       [0.08933033],\n",
              "       [0.09229313],\n",
              "       [0.09748071],\n",
              "       [0.09835193],\n",
              "       [0.09901071],\n",
              "       [0.09791994],\n",
              "       [0.10270071],\n",
              "       [0.10303192],\n",
              "       [0.10768674],\n",
              "       [0.10523872],\n",
              "       [0.09589312],\n",
              "       [0.08427955],\n",
              "       [0.08730714],\n",
              "       [0.08719914],\n",
              "       [0.08396993],\n",
              "       [0.08420755],\n",
              "       [0.08589595],\n",
              "       [0.08502115],\n",
              "       [0.08220234],\n",
              "       [0.07316994],\n",
              "       [0.07715514],\n",
              "       [0.08266674],\n",
              "       [0.08246514],\n",
              "       [0.08082354],\n",
              "       [0.07448395],\n",
              "       [0.07372794],\n",
              "       [0.07186314],\n",
              "       [0.07676275],\n",
              "       [0.07355875],\n",
              "       [0.07156075],\n",
              "       [0.06897236],\n",
              "       [0.06924596],\n",
              "       [0.07214035],\n",
              "       [0.07701116],\n",
              "       [0.08169473],\n",
              "       [0.08084874],\n",
              "       [0.07617595],\n",
              "       [0.07708674],\n",
              "       [0.08128793],\n",
              "       [0.07640275],\n",
              "       [0.08074435],\n",
              "       [0.08240755],\n",
              "       [0.08853473],\n",
              "       [0.08587435],\n",
              "       [0.08392313],\n",
              "       [0.07938714],\n",
              "       [0.07782834],\n",
              "       [0.07903435],\n",
              "       [0.07595276],\n",
              "       [0.07251474],\n",
              "       [0.06700315],\n",
              "       [0.06657474],\n",
              "       [0.07099195],\n",
              "       [0.07298276],\n",
              "       [0.07476474],\n",
              "       [0.07398715],\n",
              "       [0.07323474],\n",
              "       [0.07624075],\n",
              "       [0.08178473],\n",
              "       [0.08492755],\n",
              "       [0.08543514],\n",
              "       [0.08407074],\n",
              "       [0.08687874],\n",
              "       [0.08901353],\n",
              "       [0.08973714],\n",
              "       [0.09096114],\n",
              "       [0.09196554],\n",
              "       [0.08759874],\n",
              "       [0.08385833],\n",
              "       [0.08252633],\n",
              "       [0.07654674],\n",
              "       [0.08000275],\n",
              "       [0.07892633],\n",
              "       [0.07875354],\n",
              "       [0.12502069],\n",
              "       [0.1285847 ],\n",
              "       [0.12657952],\n",
              "       [0.12600353],\n",
              "       [0.1225979 ],\n",
              "       [0.1288547 ],\n",
              "       [0.13211631],\n",
              "       [0.13301992],\n",
              "       [0.1365155 ],\n",
              "       [0.1351655 ],\n",
              "       [0.13380469],\n",
              "       [0.13517992],\n",
              "       [0.13794109],\n",
              "       [0.13428708],\n",
              "       [0.13810311],\n",
              "       [0.1354355 ],\n",
              "       [0.13415032],\n",
              "       [0.13889509],\n",
              "       [0.1448963 ],\n",
              "       [0.15563868],\n",
              "       [0.15917746],\n",
              "       [0.15837467],\n",
              "       [0.1467359 ],\n",
              "       [0.15230869],\n",
              "       [0.14712468],\n",
              "       [0.13690068],\n",
              "       [0.13964388],\n",
              "       [0.14352468],\n",
              "       [0.1462031 ],\n",
              "       [0.14699869],\n",
              "       [0.1494899 ],\n",
              "       [0.14810747],\n",
              "       [0.14776549],\n",
              "       [0.15141229],\n",
              "       [0.15316909],\n",
              "       [0.15728747],\n",
              "       [0.15613548],\n",
              "       [0.15262188],\n",
              "       [0.15159229],\n",
              "       [0.14928828],\n",
              "       [0.15231229],\n",
              "       [0.15429229],\n",
              "       [0.15567467],\n",
              "       [0.14968788],\n",
              "       [0.15672229],\n",
              "       [0.16219066],\n",
              "       [0.16413106],\n",
              "       [0.17116908],\n",
              "       [0.17755186],\n",
              "       [0.17965065],\n",
              "       [0.18023745],\n",
              "       [0.18828348],\n",
              "       [0.19855063],\n",
              "       [0.19842824],\n",
              "       [0.19487865],\n",
              "       [0.19427383],\n",
              "       [0.19472744],\n",
              "       [0.20651026],\n",
              "       [0.21919305],\n",
              "       [0.21738224],\n",
              "       [0.22474061],\n",
              "       [0.23341664],\n",
              "       [0.23904344],\n",
              "       [0.24629379],\n",
              "       [0.25099901],\n",
              "       [0.22907863],\n",
              "       [0.2434606 ],\n",
              "       [0.22907863],\n",
              "       [0.248101  ],\n",
              "       [0.23871943],\n",
              "       [0.21485864],\n",
              "       [0.21093463],\n",
              "       [0.22772142],\n",
              "       [0.23790222],\n",
              "       [0.25105663],\n",
              "       [0.25491221],\n",
              "       [0.25020699],\n",
              "       [0.25728459],\n",
              "       [0.26252981],\n",
              "       [0.26340099],\n",
              "       [0.26867859],\n",
              "       [0.27658057],\n",
              "       [0.27299138],\n",
              "       [0.27316057],\n",
              "       [0.26632058],\n",
              "       [0.26876859],\n",
              "       [0.27717818],\n",
              "       [0.28222899],\n",
              "       [0.28487858],\n",
              "       [0.28734817],\n",
              "       [0.29707898],\n",
              "       [0.30409897],\n",
              "       [0.30042339],\n",
              "       [0.30143857],\n",
              "       [0.29831375],\n",
              "       [0.29448339],\n",
              "       [0.2848534 ],\n",
              "       [0.29982217],\n",
              "       [0.29814817],\n",
              "       [0.2848498 ],\n",
              "       [0.26708022],\n",
              "       [0.28878817],\n",
              "       [0.26761661],\n",
              "       [0.24398983],\n",
              "       [0.249721  ],\n",
              "       [0.22259503],\n",
              "       [0.22981664],\n",
              "       [0.2364838 ],\n",
              "       [0.25130861],\n",
              "       [0.23456141],\n",
              "       [0.23486741],\n",
              "       [0.2457178 ],\n",
              "       [0.24241663],\n",
              "       [0.25013861],\n",
              "       [0.24376303],\n",
              "       [0.24761861],\n",
              "       [0.27005738],\n",
              "       [0.27870097],\n",
              "       [0.28916619],\n",
              "       [0.27857498],\n",
              "       [0.27510818],\n",
              "       [0.25431099],\n",
              "       [0.25433982],\n",
              "       [0.27514418],\n",
              "       [0.29482177],\n",
              "       [0.29248538],\n",
              "       [0.29829217],\n",
              "       [0.29376339],\n",
              "       [0.29462736],\n",
              "       [0.29782055],\n",
              "       [0.30472897],\n",
              "       [0.30193897],\n",
              "       [0.30755856],\n",
              "       [0.30794735],\n",
              "       [0.30572618],\n",
              "       [0.30523298],\n",
              "       [0.29608177],\n",
              "       [0.30009938],\n",
              "       [0.29811217],\n",
              "       [0.29545177],\n",
              "       [0.29944416],\n",
              "       [0.29798258],\n",
              "       [0.30534816],\n",
              "       [0.30578375],\n",
              "       [0.30833257],\n",
              "       [0.30931176],\n",
              "       [0.31363896],\n",
              "       [0.31534176],\n",
              "       [0.31963297],\n",
              "       [0.32817575],\n",
              "       [0.33936453],\n",
              "       [0.33914854],\n",
              "       [0.33682656],\n",
              "       [0.33491494],\n",
              "       [0.33676174],\n",
              "       [0.34022854],\n",
              "       [0.34242813],\n",
              "       [0.34926813],\n",
              "       [0.34642772],\n",
              "       [0.34924294],\n",
              "       [0.35319934],\n",
              "       [0.35870731],\n",
              "       [0.35155772],\n",
              "       [0.34631975],\n",
              "       [0.32741256],\n",
              "       [0.33747093],\n",
              "       [0.32646215],\n",
              "       [0.34120052],\n",
              "       [0.34060656],\n",
              "       [0.34563934],\n",
              "       [0.33850413],\n",
              "       [0.34058133],\n",
              "       [0.34450534],\n",
              "       [0.35472573],\n",
              "       [0.35618371],\n",
              "       [0.36047852],\n",
              "       [0.37546171],\n",
              "       [0.38136932],\n",
              "       [0.3847749 ],\n",
              "       [0.39249332],\n",
              "       [0.39212971],\n",
              "       [0.38134769],\n",
              "       [0.38161049],\n",
              "       [0.37739851],\n",
              "       [0.3872049 ],\n",
              "       [0.39957809],\n",
              "       [0.37955851],\n",
              "       [0.38289571],\n",
              "       [0.3691977 ],\n",
              "       [0.36855689],\n",
              "       [0.37565973],\n",
              "       [0.38903728],\n",
              "       [0.38506292],\n",
              "       [0.3938685 ],\n",
              "       [0.39917128],\n",
              "       [0.40782569],\n",
              "       [0.41214569],\n",
              "       [0.4077465 ],\n",
              "       [0.41131046],\n",
              "       [0.41975248],\n",
              "       [0.40642168],\n",
              "       [0.40782569],\n",
              "       [0.40627768],\n",
              "       [0.40429407],\n",
              "       [0.4067097 ],\n",
              "       [0.41444249],\n",
              "       [0.41372249],\n",
              "       [0.41461888],\n",
              "       [0.42264329],\n",
              "       [0.42449365],\n",
              "       [0.44799444],\n",
              "       [0.44953525],\n",
              "       [0.45325403],\n",
              "       [0.46290204],\n",
              "       [0.44681363],\n",
              "       [0.43367009],\n",
              "       [0.43142365],\n",
              "       [0.42672207],\n",
              "       [0.44405246],\n",
              "       [0.44507846],\n",
              "       [0.44503165],\n",
              "       [0.43794684],\n",
              "       [0.41556929],\n",
              "       [0.42745649],\n",
              "       [0.42218969],\n",
              "       [0.42862649],\n",
              "       [0.41808208],\n",
              "       [0.42504807],\n",
              "       [0.43951648],\n",
              "       [0.43962445],\n",
              "       [0.45335124],\n",
              "       [0.44975845],\n",
              "       [0.45024805],\n",
              "       [0.43835008],\n",
              "       [0.43167207],\n",
              "       [0.41606969],\n",
              "       [0.40895249],\n",
              "       [0.39986971],\n",
              "       [0.40199367],\n",
              "       [0.36056852],\n",
              "       [0.34764813],\n",
              "       [0.37257811],\n",
              "       [0.3626205 ],\n",
              "       [0.38386409],\n",
              "       [0.38810129],\n",
              "       [0.36613771],\n",
              "       [0.36372933],\n",
              "       [0.37282653],\n",
              "       [0.3654105 ],\n",
              "       [0.32779053],\n",
              "       [0.37025973],\n",
              "       [0.32009017],\n",
              "       [0.28267538],\n",
              "       [0.2796298 ],\n",
              "       [0.30396217],\n",
              "       [0.32826936],\n",
              "       [0.32826936],\n",
              "       [0.31468658],\n",
              "       [0.32009017],\n",
              "       [0.36065492],\n",
              "       [0.36044613],\n",
              "       [0.34515335],\n",
              "       [0.31794455],\n",
              "       [0.31589977],\n",
              "       [0.30432217],\n",
              "       [0.31167694],\n",
              "       [0.30230618],\n",
              "       [0.273103  ],\n",
              "       [0.26704418],\n",
              "       [0.27470138],\n",
              "       [0.26942021],\n",
              "       [0.29795736],\n",
              "       [0.29798979],\n",
              "       [0.33266854],\n",
              "       [0.33116373],\n",
              "       [0.33713976],\n",
              "       [0.36672811],\n",
              "       [0.32930256],\n",
              "       [0.34038692],\n",
              "       [0.31516536],\n",
              "       [0.31944936],\n",
              "       [0.32024495],\n",
              "       [0.32755296],\n",
              "       [0.32569535],\n",
              "       [0.30176618],\n",
              "       [0.2762062 ],\n",
              "       [0.28721137],\n",
              "       [0.26690738],\n",
              "       [0.25457739],\n",
              "       [0.22456061],\n",
              "       [0.21250422],\n",
              "       [0.25820261],\n",
              "       [0.25486901],\n",
              "       [0.26076581],\n",
              "       [0.26938778],\n",
              "       [0.28276538],\n",
              "       [0.2687794 ],\n",
              "       [0.29581898],\n",
              "       [0.31530216],\n",
              "       [0.32504733],\n",
              "       [0.32606976],\n",
              "       [0.32491774],\n",
              "       [0.31928018],\n",
              "       [0.31087415],\n",
              "       [0.33152017],\n",
              "       [0.33483935],\n",
              "       [0.33823773],\n",
              "       [0.33931052],\n",
              "       [0.31625977],\n",
              "       [0.31908576],\n",
              "       [0.32445337],\n",
              "       [0.33008373],\n",
              "       [0.31831896],\n",
              "       [0.30247537],\n",
              "       [0.33003337],\n",
              "       [0.34742133],\n",
              "       [0.31412135],\n",
              "       [0.31667018],\n",
              "       [0.32585017],\n",
              "       [0.31917216],\n",
              "       [0.30985176],\n",
              "       [0.30043776],\n",
              "       [0.30143857],\n",
              "       [0.31836216],\n",
              "       [0.31907855],\n",
              "       [0.31283257],\n",
              "       [0.30754055],\n",
              "       [0.31460734],\n",
              "       [0.31263455],\n",
              "       [0.31167694],\n",
              "       [0.31604018],\n",
              "       [0.31655856],\n",
              "       [0.31778256],\n",
              "       [0.31947094],\n",
              "       [0.31901734],\n",
              "       [0.33050134],\n",
              "       [0.33929975],\n",
              "       [0.33795336],\n",
              "       [0.32950053],\n",
              "       [0.31402054],\n",
              "       [0.31216658],\n",
              "       [0.33010174],\n",
              "       [0.33099454],\n",
              "       [0.33737016],\n",
              "       [0.33571773],\n",
              "       [0.34512813],\n",
              "       [0.35585253],\n",
              "       [0.36294451],\n",
              "       [0.37569572],\n",
              "       [0.38361211],\n",
              "       [0.36399573],\n",
              "       [0.36741212],\n",
              "       [0.37083212],\n",
              "       [0.3643305 ],\n",
              "       [0.36710973],\n",
              "       [0.36974851],\n",
              "       [0.38178688],\n",
              "       [0.3817113 ],\n",
              "       [0.38413049],\n",
              "       [0.3834681 ],\n",
              "       [0.39009931],\n",
              "       [0.39462809],\n",
              "       [0.38958089],\n",
              "       [0.39371728],\n",
              "       [0.39254368],\n",
              "       [0.39218012],\n",
              "       [0.39283169],\n",
              "       [0.39937291],\n",
              "       [0.40001367],\n",
              "       [0.39888687],\n",
              "       [0.40811011],\n",
              "       [0.42123568],\n",
              "       [0.41330848],\n",
              "       [0.41348848],\n",
              "       [0.43090527],\n",
              "       [0.42651329],\n",
              "       [0.42222568],\n",
              "       [0.41682568],\n",
              "       [0.41297366],\n",
              "       [0.43516405],\n",
              "       [0.43087648],\n",
              "       [0.42023847],\n",
              "       [0.41907568],\n",
              "       [0.41263168],\n",
              "       [0.40907128],\n",
              "       [0.38484332],\n",
              "       [0.3911217 ],\n",
              "       [0.4022925 ],\n",
              "       [0.41540366],\n",
              "       [0.40151849],\n",
              "       [0.39790768],\n",
              "       [0.3973857 ],\n",
              "       [0.39816331],\n",
              "       [0.3822513 ],\n",
              "       [0.38505931],\n",
              "       [0.38979332],\n",
              "       [0.38358688],\n",
              "       [0.38255369],\n",
              "       [0.3677037 ],\n",
              "       [0.33804692],\n",
              "       [0.35132015],\n",
              "       [0.35453853],\n",
              "       [0.36024812],\n",
              "       [0.37812932],\n",
              "       [0.39850529],\n",
              "       [0.39961047],\n",
              "       [0.39659367],\n",
              "       [0.40198651],\n",
              "       [0.40175971],\n",
              "       [0.4076493 ],\n",
              "       [0.41317168],\n",
              "       [0.41584289],\n",
              "       [0.41922685],\n",
              "       [0.4167465 ],\n",
              "       [0.41768249],\n",
              "       [0.40485569],\n",
              "       [0.41189727],\n",
              "       [0.41421929],\n",
              "       [0.41038528],\n",
              "       [0.42066685],\n",
              "       [0.42503009],\n",
              "       [0.42671847],\n",
              "       [0.42812608],\n",
              "       [0.43151365],\n",
              "       [0.44446647],\n",
              "       [0.45494606],\n",
              "       [0.44906363],\n",
              "       [0.45263845],\n",
              "       [0.45623484],\n",
              "       [0.45224246],\n",
              "       [0.44580927],\n",
              "       [0.44072247],\n",
              "       [0.43590567],\n",
              "       [0.44350526],\n",
              "       [0.44669485],\n",
              "       [0.44897007],\n",
              "       [0.43925364],\n",
              "       [0.42817649],\n",
              "       [0.41716046],\n",
              "       [0.41214929],\n",
              "       [0.4007193 ],\n",
              "       [0.39659367],\n",
              "       [0.3850449 ],\n",
              "       [0.36412532],\n",
              "       [0.3722973 ],\n",
              "       [0.37430252],\n",
              "       [0.38851891],\n",
              "       [0.37940729],\n",
              "       [0.37124973],\n",
              "       [0.38544089],\n",
              "       [0.36334411],\n",
              "       [0.36808171],\n",
              "       [0.37400369],\n",
              "       [0.3824817 ],\n",
              "       [0.37717531],\n",
              "       [0.38515292],\n",
              "       [0.37835612],\n",
              "       [0.35854172],\n",
              "       [0.36547172],\n",
              "       [0.3629373 ],\n",
              "       [0.36380852],\n",
              "       [0.37178252],\n",
              "       [0.36814293],\n",
              "       [0.3730209 ],\n",
              "       [0.37690171],\n",
              "       [0.39133769],\n",
              "       [0.3887421 ],\n",
              "       [0.38796449],\n",
              "       [0.38407652],\n",
              "       [0.3849549 ],\n",
              "       [0.39235651],\n",
              "       [0.39084089],\n",
              "       [0.37950089],\n",
              "       [0.38479652],\n",
              "       [0.38296409],\n",
              "       [0.3844185 ],\n",
              "       [0.37457612],\n",
              "       [0.37138653],\n",
              "       [0.35565812],\n",
              "       [0.3652773 ],\n",
              "       [0.35502091],\n",
              "       [0.34984051],\n",
              "       [0.35360614],\n",
              "       [0.35351254],\n",
              "       [0.34544133],\n",
              "       [0.34946975],\n",
              "       [0.35495254],\n",
              "       [0.35243614],\n",
              "       [0.34266214],\n",
              "       [0.34859493],\n",
              "       [0.34797214],\n",
              "       [0.35216974],\n",
              "       [0.35379335],\n",
              "       [0.36493532],\n",
              "       [0.36855333],\n",
              "       [0.37217131],\n",
              "       [0.36138212],\n",
              "       [0.37151613],\n",
              "       [0.36434131],\n",
              "       [0.36305974],\n",
              "       [0.36975933],\n",
              "       [0.3627573 ],\n",
              "       [0.3684273 ],\n",
              "       [0.36325411],\n",
              "       [0.36947491],\n",
              "       [0.36827613],\n",
              "       [0.37359689],\n",
              "       [0.37835612],\n",
              "       [0.37729409],\n",
              "       [0.37515572],\n",
              "       [0.37243049],\n",
              "       [0.37159531],\n",
              "       [0.36647253],\n",
              "       [0.36875852],\n",
              "       [0.35979812],\n",
              "       [0.36033451],\n",
              "       [0.35489492],\n",
              "       [0.35958933],\n",
              "       [0.35968294],\n",
              "       [0.35706934],\n",
              "       [0.35317411],\n",
              "       [0.35713771],\n",
              "       [0.3672609 ],\n",
              "       [0.37557689],\n",
              "       [0.38334211],\n",
              "       [0.37696653],\n",
              "       [0.37005451],\n",
              "       [0.3658641 ],\n",
              "       [0.3625269 ],\n",
              "       [0.35525132],\n",
              "       [0.35925451],\n",
              "       [0.35850213],\n",
              "       [0.35479411],\n",
              "       [0.35821771],\n",
              "       [0.3623973 ],\n",
              "       [0.3626169 ],\n",
              "       [0.3655941 ],\n",
              "       [0.37331612],\n",
              "       [0.37092932],\n",
              "       [0.37389932],\n",
              "       [0.37181851],\n",
              "       [0.37415851],\n",
              "       [0.3727941 ],\n",
              "       [0.4014357 ],\n",
              "       [0.40180651],\n",
              "       [0.3935589 ],\n",
              "       [0.39390088],\n",
              "       [0.41196208],\n",
              "       [0.40366768],\n",
              "       [0.41371528],\n",
              "       [0.41514807],\n",
              "       [0.40978767],\n",
              "       [0.4130565 ],\n",
              "       [0.4066161 ],\n",
              "       [0.4095465 ],\n",
              "       [0.40167687],\n",
              "       [0.3990057 ],\n",
              "       [0.40473687],\n",
              "       [0.39997768],\n",
              "       [0.40979848],\n",
              "       [0.40816407],\n",
              "       [0.40712727],\n",
              "       [0.3988689 ],\n",
              "       [0.38688089],\n",
              "       [0.39584849],\n",
              "       [0.39755849],\n",
              "       [0.40212331],\n",
              "       [0.45181764],\n",
              "       [0.45019043],\n",
              "       [0.46655961],\n",
              "       [0.46303164],\n",
              "       [0.46676123],\n",
              "       [0.47721924],\n",
              "       [0.49688598],\n",
              "       [0.50296643],\n",
              "       [0.50627841],\n",
              "       [0.50263165],\n",
              "       [0.49723166],\n",
              "       [0.50471958],\n",
              "       [0.50995759],\n",
              "       [0.50379444],\n",
              "       [0.48322761],\n",
              "       [0.45202286],\n",
              "       [0.43886486],\n",
              "       [0.44133085],\n",
              "       [0.4070265 ],\n",
              "       [0.40682849],\n",
              "       [0.43210045],\n",
              "       [0.41591487],\n",
              "       [0.43997724],\n",
              "       [0.42132928],\n",
              "       [0.41307087],\n",
              "       [0.3768981 ],\n",
              "       [0.40973366],\n",
              "       [0.3841881 ],\n",
              "       [0.33225814],\n",
              "       [0.37127851],\n",
              "       [0.33677255],\n",
              "       [0.37950089],\n",
              "       [0.3874785 ],\n",
              "       [0.40581331],\n",
              "       [0.39327088],\n",
              "       [0.41369726],\n",
              "       [0.42711446],\n",
              "       [0.40758087],\n",
              "       [0.43265486],\n",
              "       [0.41271447],\n",
              "       [0.43570044],\n",
              "       [0.43057766],\n",
              "       [0.41545046],\n",
              "       [0.41945726],\n",
              "       [0.41505087],\n",
              "       [0.44781084],\n",
              "       [0.45285444],\n",
              "       [0.46415844],\n",
              "       [0.46407204],\n",
              "       [0.50947165],\n",
              "       [0.5506736 ],\n",
              "       [0.55944314],\n",
              "       [0.59562672],\n",
              "       [0.58367835],\n",
              "       [0.59037798],\n",
              "       [0.5668016 ],\n",
              "       [0.57953475],\n",
              "       [0.59248032],\n",
              "       [0.59635753],\n",
              "       [0.58403835],\n",
              "       [0.56174719],\n",
              "       [0.58285393],\n",
              "       [0.61931832],\n",
              "       [0.55165279],\n",
              "       [0.56243476],\n",
              "       [0.56308638],\n",
              "       [0.57513196],\n",
              "       [0.58101799],\n",
              "       [0.58533798],\n",
              "       [0.59591834],\n",
              "       [0.57718033],\n",
              "       [0.58112952],\n",
              "       [0.58866438],\n",
              "       [0.59619915],\n",
              "       [0.60213193],\n",
              "       [0.61043715],\n",
              "       [0.62793669],\n",
              "       [0.60950472],\n",
              "       [0.60595509],\n",
              "       [0.60054797],\n",
              "       [0.5964187 ],\n",
              "       [0.59307437],\n",
              "       [0.60793157],\n",
              "       [0.61825273],\n",
              "       [0.61874589],\n",
              "       [0.62090228],\n",
              "       [0.61449436],\n",
              "       [0.62255832],\n",
              "       [0.63733992],\n",
              "       [0.66498792],\n",
              "       [0.68176025],\n",
              "       [0.64954388],\n",
              "       [0.6448855 ],\n",
              "       [0.65484307],\n",
              "       [0.67017548],\n",
              "       [0.67943106],\n",
              "       [0.68411106],\n",
              "       [0.69168186],\n",
              "       [0.70565347],\n",
              "       [0.7238658 ],\n",
              "       [0.71306221],\n",
              "       [0.72032707],\n",
              "       [0.6981115 ],\n",
              "       [0.69361502],\n",
              "       [0.72185346],\n",
              "       [0.76501019],\n",
              "       [0.76918622],\n",
              "       [0.82921257],\n",
              "       [0.80872141],\n",
              "       [0.83787778],\n",
              "       [0.87442487],\n",
              "       [0.88067811],\n",
              "       [0.84611814],\n",
              "       [0.83891814],\n",
              "       [0.81187141],\n",
              "       [0.80864213],\n",
              "       [0.79498737],\n",
              "       [0.87954054],\n",
              "       [0.85846254],\n",
              "       [0.84464571],\n",
              "       [0.80383619],\n",
              "       [0.81188573],\n",
              "       [0.82855374],\n",
              "       [0.808797  ],\n",
              "       [0.82074897],\n",
              "       [0.82735491],\n",
              "       [0.8679629 ],\n",
              "       [0.8489585 ],\n",
              "       [0.85865696],\n",
              "       [0.88248892],\n",
              "       [0.8896781 ],\n",
              "       [0.86896371],\n",
              "       [0.86201569],\n",
              "       [0.83771932],\n",
              "       [0.86708452],\n",
              "       [0.86664533],\n",
              "       [0.86196533],\n",
              "       [0.87434569],\n",
              "       [0.92117448],\n",
              "       [0.90245089],\n",
              "       [0.91573133],\n",
              "       [0.91117728],\n",
              "       [0.91936367],\n",
              "       [0.93341447],\n",
              "       [0.96774408],\n",
              "       [0.95267805],\n",
              "       [0.95332607],\n",
              "       [0.97102363],\n",
              "       [0.98836127],\n",
              "       [1.        ],\n",
              "       [0.94115806],\n",
              "       [0.91474133],\n",
              "       [0.86262056],\n",
              "       [0.90537773],\n",
              "       [0.87171776],\n",
              "       [0.85051732],\n",
              "       [0.84574733],\n",
              "       [0.86488488],\n",
              "       [0.83679418],\n",
              "       [0.81182096],\n",
              "       [0.79244575],\n",
              "       [0.79444737],\n",
              "       [0.85511453],\n",
              "       [0.80862781],\n",
              "       [0.81580258],\n",
              "       [0.8429249 ],\n",
              "       [0.87133614],\n",
              "       [0.86083489],\n",
              "       [0.86222092],\n",
              "       [0.88833171],\n",
              "       [0.85367813],\n",
              "       [0.88039009],\n",
              "       [0.84466373],\n",
              "       [0.87912649],\n",
              "       [0.87727613],\n",
              "       [0.91187205],\n",
              "       [0.96813282],\n",
              "       [0.9683848 ],\n",
              "       [0.93961365],\n",
              "       [0.93059204],\n",
              "       [0.90685368],\n",
              "       [0.8832737 ],\n",
              "       [0.88680171],\n",
              "       [0.87525649],\n",
              "       [0.87218208],\n",
              "       [0.88226208],\n",
              "       [0.88321252],\n",
              "       [0.91175692],\n",
              "       [0.86727893],\n",
              "       [0.88464171],\n",
              "       [0.82169212],\n",
              "       [0.81029096],\n",
              "       [0.82610572],\n",
              "       [0.89549567],\n",
              "       [0.92459808],\n",
              "       [0.92077132],\n",
              "       [0.86042452],\n",
              "       [0.82128537],\n",
              "       [0.85813849],\n",
              "       [0.84837895],\n",
              "       [0.85504975],\n",
              "       [0.85585975],\n",
              "       [0.8575157 ],\n",
              "       [0.84664372],\n",
              "       [0.85080534],\n",
              "       [0.84446211],\n",
              "       [0.8440985 ],\n",
              "       [0.85117976],\n",
              "       [0.87530334],\n",
              "       [0.87900054],\n",
              "       [0.86917253],\n",
              "       [0.88790693],\n",
              "       [0.88194892],\n",
              "       [0.87590091],\n",
              "       [0.86720695],\n",
              "       [0.86555812],\n",
              "       [0.87250253],\n",
              "       [0.84619012],\n",
              "       [0.84521454],\n",
              "       [0.85058931],\n",
              "       [0.86518731],\n",
              "       [0.86812136]])"
            ]
          },
          "metadata": {
            "tags": []
          },
          "execution_count": 58
        }
      ]
    },
    {
      "cell_type": "markdown",
      "metadata": {
        "id": "H1ivQEJR9QH-"
      },
      "source": [
        "##Splitting the Dataset"
      ]
    },
    {
      "cell_type": "code",
      "metadata": {
        "id": "cU2_hSTR9LJl"
      },
      "source": [
        "train_size=int(len(df_1)*0.65)\r\n",
        "test_size=len(df_1)-train_size\r\n",
        "train_data,test_data=df_1[0:train_size,:],df_1[train_size:len(df_1),:1]"
      ],
      "execution_count": null,
      "outputs": []
    },
    {
      "cell_type": "code",
      "metadata": {
        "id": "1Hd9CtPz_Z_E"
      },
      "source": [
        "def create_dataset(dataset, time_step=1):\r\n",
        "  datax,datay=[],[]\r\n",
        "  for i in range(len(dataset)-time_step-1):\r\n",
        "    a=dataset[i:(i+time_step),0]\r\n",
        "    datax.append(a)\r\n",
        "    datay.append(dataset[i+time_step,0])\r\n",
        "  return np.array(datax),np.array(datay)"
      ],
      "execution_count": null,
      "outputs": []
    },
    {
      "cell_type": "code",
      "metadata": {
        "id": "lLLQpKRACe4N"
      },
      "source": [
        "time_step=100\r\n",
        "x_train,y_train=create_dataset(train_data,time_step)\r\n",
        "x_test,y_test=create_dataset(test_data,time_step)"
      ],
      "execution_count": null,
      "outputs": []
    },
    {
      "cell_type": "code",
      "metadata": {
        "colab": {
          "base_uri": "https://localhost:8080/"
        },
        "id": "X1jgUmo8CY5L",
        "outputId": "ea651f8a-430b-43dc-ea9b-d189dd23b573"
      },
      "source": [
        "x_train"
      ],
      "execution_count": null,
      "outputs": [
        {
          "output_type": "execute_result",
          "data": {
            "text/plain": [
              "array([[0.        , 0.0012636 , 0.0096408 , ..., 0.07843314, 0.08160473,\n",
              "        0.08629554],\n",
              "       [0.0012636 , 0.0096408 , 0.01523519, ..., 0.08160473, 0.08629554,\n",
              "        0.08715955],\n",
              "       [0.0096408 , 0.01523519, 0.01556999, ..., 0.08629554, 0.08715955,\n",
              "        0.08749074],\n",
              "       ...,\n",
              "       [0.33929975, 0.33795336, 0.32950053, ..., 0.44350526, 0.44669485,\n",
              "        0.44897007],\n",
              "       [0.33795336, 0.32950053, 0.31402054, ..., 0.44669485, 0.44897007,\n",
              "        0.43925364],\n",
              "       [0.32950053, 0.31402054, 0.31216658, ..., 0.44897007, 0.43925364,\n",
              "        0.42817649]])"
            ]
          },
          "metadata": {
            "tags": []
          },
          "execution_count": 62
        }
      ]
    },
    {
      "cell_type": "code",
      "metadata": {
        "id": "TKpu5IgaCb2q"
      },
      "source": [
        "x_train=x_train.reshape(x_train.shape[0],x_train.shape[1],1)\r\n",
        "x_test=x_test.reshape(x_test.shape[0],x_test.shape[1],1)"
      ],
      "execution_count": null,
      "outputs": []
    },
    {
      "cell_type": "code",
      "metadata": {
        "colab": {
          "base_uri": "https://localhost:8080/"
        },
        "id": "tTv1KAxyEXBb",
        "outputId": "b8ef8c40-edf6-43d7-8d33-eaa18a5b73f1"
      },
      "source": [
        "x_train.shape, x_test.shape, y_train.shape, y_test.shape"
      ],
      "execution_count": null,
      "outputs": [
        {
          "output_type": "execute_result",
          "data": {
            "text/plain": [
              "((546, 100, 1), (248, 100, 1), (546,), (248,))"
            ]
          },
          "metadata": {
            "tags": []
          },
          "execution_count": 64
        }
      ]
    },
    {
      "cell_type": "markdown",
      "metadata": {
        "id": "OhQr-Xn2FjUI"
      },
      "source": [
        "##Tensorflow Models"
      ]
    },
    {
      "cell_type": "code",
      "metadata": {
        "id": "M9bSb761Fga2"
      },
      "source": [
        "from tensorflow.keras.models import Sequential\r\n",
        "from tensorflow.keras.layers import Dense\r\n",
        "from tensorflow.keras.layers import LSTM"
      ],
      "execution_count": null,
      "outputs": []
    },
    {
      "cell_type": "code",
      "metadata": {
        "id": "LVxMgq0eGLaZ"
      },
      "source": [
        "model=Sequential()\r\n",
        "model.add(LSTM(50,return_sequences=True,input_shape=(100,1)))\r\n",
        "model.add(LSTM(50))\r\n",
        "model.add(Dense(1))\r\n",
        "model.compile(loss='mean_squared_error',optimizer='adam')"
      ],
      "execution_count": null,
      "outputs": []
    },
    {
      "cell_type": "code",
      "metadata": {
        "colab": {
          "base_uri": "https://localhost:8080/"
        },
        "id": "cBVI7_EeHtWp",
        "outputId": "a0caa527-a991-4908-c508-32e75af14fdb"
      },
      "source": [
        "model.summary()"
      ],
      "execution_count": null,
      "outputs": [
        {
          "output_type": "stream",
          "text": [
            "Model: \"sequential_1\"\n",
            "_________________________________________________________________\n",
            "Layer (type)                 Output Shape              Param #   \n",
            "=================================================================\n",
            "lstm_2 (LSTM)                (None, 100, 50)           10400     \n",
            "_________________________________________________________________\n",
            "lstm_3 (LSTM)                (None, 50)                20200     \n",
            "_________________________________________________________________\n",
            "dense_1 (Dense)              (None, 1)                 51        \n",
            "=================================================================\n",
            "Total params: 30,651\n",
            "Trainable params: 30,651\n",
            "Non-trainable params: 0\n",
            "_________________________________________________________________\n"
          ],
          "name": "stdout"
        }
      ]
    },
    {
      "cell_type": "markdown",
      "metadata": {
        "id": "bXRgHWeUIFkL"
      },
      "source": [
        "##Model Training"
      ]
    },
    {
      "cell_type": "code",
      "metadata": {
        "colab": {
          "base_uri": "https://localhost:8080/"
        },
        "id": "IQqqTn5xH3sb",
        "outputId": "ad59ca55-4784-4774-80dd-3e7e5ed48f02"
      },
      "source": [
        "model.fit(x_train,y_train,validation_data=(x_test,y_test),epochs=100,batch_size=64,verbose=1)"
      ],
      "execution_count": null,
      "outputs": [
        {
          "output_type": "stream",
          "text": [
            "Epoch 1/100\n",
            "9/9 [==============================] - 5s 210ms/step - loss: 0.0471 - val_loss: 0.0042\n",
            "Epoch 2/100\n",
            "9/9 [==============================] - 1s 122ms/step - loss: 0.0053 - val_loss: 0.0520\n",
            "Epoch 3/100\n",
            "9/9 [==============================] - 1s 120ms/step - loss: 0.0034 - val_loss: 0.0054\n",
            "Epoch 4/100\n",
            "9/9 [==============================] - 1s 120ms/step - loss: 0.0017 - val_loss: 0.0143\n",
            "Epoch 5/100\n",
            "9/9 [==============================] - 1s 122ms/step - loss: 0.0010 - val_loss: 0.0057\n",
            "Epoch 6/100\n",
            "9/9 [==============================] - 1s 126ms/step - loss: 7.2382e-04 - val_loss: 0.0038\n",
            "Epoch 7/100\n",
            "9/9 [==============================] - 1s 120ms/step - loss: 5.9209e-04 - val_loss: 0.0030\n",
            "Epoch 8/100\n",
            "9/9 [==============================] - 1s 122ms/step - loss: 5.3553e-04 - val_loss: 0.0028\n",
            "Epoch 9/100\n",
            "9/9 [==============================] - 1s 120ms/step - loss: 5.7990e-04 - val_loss: 0.0026\n",
            "Epoch 10/100\n",
            "9/9 [==============================] - 1s 121ms/step - loss: 5.3780e-04 - val_loss: 0.0028\n",
            "Epoch 11/100\n",
            "9/9 [==============================] - 1s 125ms/step - loss: 5.7087e-04 - val_loss: 0.0028\n",
            "Epoch 12/100\n",
            "9/9 [==============================] - 1s 119ms/step - loss: 5.1086e-04 - val_loss: 0.0034\n",
            "Epoch 13/100\n",
            "9/9 [==============================] - 1s 123ms/step - loss: 5.1804e-04 - val_loss: 0.0027\n",
            "Epoch 14/100\n",
            "9/9 [==============================] - 1s 120ms/step - loss: 5.8574e-04 - val_loss: 0.0031\n",
            "Epoch 15/100\n",
            "9/9 [==============================] - 1s 122ms/step - loss: 5.1890e-04 - val_loss: 0.0032\n",
            "Epoch 16/100\n",
            "9/9 [==============================] - 1s 120ms/step - loss: 5.2173e-04 - val_loss: 0.0025\n",
            "Epoch 17/100\n",
            "9/9 [==============================] - 1s 118ms/step - loss: 5.3086e-04 - val_loss: 0.0032\n",
            "Epoch 18/100\n",
            "9/9 [==============================] - 1s 121ms/step - loss: 5.2995e-04 - val_loss: 0.0034\n",
            "Epoch 19/100\n",
            "9/9 [==============================] - 1s 121ms/step - loss: 5.5813e-04 - val_loss: 0.0027\n",
            "Epoch 20/100\n",
            "9/9 [==============================] - 1s 117ms/step - loss: 5.1046e-04 - val_loss: 0.0028\n",
            "Epoch 21/100\n",
            "9/9 [==============================] - 1s 122ms/step - loss: 4.5501e-04 - val_loss: 0.0033\n",
            "Epoch 22/100\n",
            "9/9 [==============================] - 1s 123ms/step - loss: 5.2529e-04 - val_loss: 0.0024\n",
            "Epoch 23/100\n",
            "9/9 [==============================] - 1s 121ms/step - loss: 5.3109e-04 - val_loss: 0.0030\n",
            "Epoch 24/100\n",
            "9/9 [==============================] - 1s 119ms/step - loss: 4.7981e-04 - val_loss: 0.0038\n",
            "Epoch 25/100\n",
            "9/9 [==============================] - 1s 120ms/step - loss: 5.5843e-04 - val_loss: 0.0030\n",
            "Epoch 26/100\n",
            "9/9 [==============================] - 1s 122ms/step - loss: 4.8394e-04 - val_loss: 0.0023\n",
            "Epoch 27/100\n",
            "9/9 [==============================] - 1s 122ms/step - loss: 4.9891e-04 - val_loss: 0.0033\n",
            "Epoch 28/100\n",
            "9/9 [==============================] - 1s 123ms/step - loss: 4.6542e-04 - val_loss: 0.0034\n",
            "Epoch 29/100\n",
            "9/9 [==============================] - 1s 119ms/step - loss: 4.2569e-04 - val_loss: 0.0030\n",
            "Epoch 30/100\n",
            "9/9 [==============================] - 1s 126ms/step - loss: 4.7304e-04 - val_loss: 0.0024\n",
            "Epoch 31/100\n",
            "9/9 [==============================] - 1s 122ms/step - loss: 4.5296e-04 - val_loss: 0.0026\n",
            "Epoch 32/100\n",
            "9/9 [==============================] - 1s 124ms/step - loss: 4.1856e-04 - val_loss: 0.0042\n",
            "Epoch 33/100\n",
            "9/9 [==============================] - 1s 122ms/step - loss: 4.5742e-04 - val_loss: 0.0023\n",
            "Epoch 34/100\n",
            "9/9 [==============================] - 1s 124ms/step - loss: 4.4332e-04 - val_loss: 0.0029\n",
            "Epoch 35/100\n",
            "9/9 [==============================] - 1s 149ms/step - loss: 4.1073e-04 - val_loss: 0.0033\n",
            "Epoch 36/100\n",
            "9/9 [==============================] - 1s 121ms/step - loss: 4.5682e-04 - val_loss: 0.0026\n",
            "Epoch 37/100\n",
            "9/9 [==============================] - 1s 123ms/step - loss: 4.5101e-04 - val_loss: 0.0031\n",
            "Epoch 38/100\n",
            "9/9 [==============================] - 1s 123ms/step - loss: 4.5169e-04 - val_loss: 0.0034\n",
            "Epoch 39/100\n",
            "9/9 [==============================] - 1s 125ms/step - loss: 4.2397e-04 - val_loss: 0.0035\n",
            "Epoch 40/100\n",
            "9/9 [==============================] - 1s 120ms/step - loss: 4.2933e-04 - val_loss: 0.0028\n",
            "Epoch 41/100\n",
            "9/9 [==============================] - 1s 127ms/step - loss: 4.1160e-04 - val_loss: 0.0024\n",
            "Epoch 42/100\n",
            "9/9 [==============================] - 1s 127ms/step - loss: 4.1797e-04 - val_loss: 0.0022\n",
            "Epoch 43/100\n",
            "9/9 [==============================] - 1s 122ms/step - loss: 4.1802e-04 - val_loss: 0.0025\n",
            "Epoch 44/100\n",
            "9/9 [==============================] - 1s 121ms/step - loss: 4.7204e-04 - val_loss: 0.0043\n",
            "Epoch 45/100\n",
            "9/9 [==============================] - 1s 120ms/step - loss: 3.9873e-04 - val_loss: 0.0042\n",
            "Epoch 46/100\n",
            "9/9 [==============================] - 1s 120ms/step - loss: 4.1567e-04 - val_loss: 0.0034\n",
            "Epoch 47/100\n",
            "9/9 [==============================] - 1s 121ms/step - loss: 3.8258e-04 - val_loss: 0.0033\n",
            "Epoch 48/100\n",
            "9/9 [==============================] - 1s 120ms/step - loss: 3.7625e-04 - val_loss: 0.0035\n",
            "Epoch 49/100\n",
            "9/9 [==============================] - 1s 126ms/step - loss: 4.0056e-04 - val_loss: 0.0034\n",
            "Epoch 50/100\n",
            "9/9 [==============================] - 1s 120ms/step - loss: 3.7545e-04 - val_loss: 0.0030\n",
            "Epoch 51/100\n",
            "9/9 [==============================] - 1s 119ms/step - loss: 3.7792e-04 - val_loss: 0.0027\n",
            "Epoch 52/100\n",
            "9/9 [==============================] - 1s 124ms/step - loss: 4.1252e-04 - val_loss: 0.0041\n",
            "Epoch 53/100\n",
            "9/9 [==============================] - 1s 125ms/step - loss: 3.6759e-04 - val_loss: 0.0046\n",
            "Epoch 54/100\n",
            "9/9 [==============================] - 1s 119ms/step - loss: 3.9731e-04 - val_loss: 0.0039\n",
            "Epoch 55/100\n",
            "9/9 [==============================] - 1s 119ms/step - loss: 3.6849e-04 - val_loss: 0.0039\n",
            "Epoch 56/100\n",
            "9/9 [==============================] - 1s 123ms/step - loss: 3.6723e-04 - val_loss: 0.0028\n",
            "Epoch 57/100\n",
            "9/9 [==============================] - 1s 124ms/step - loss: 4.4175e-04 - val_loss: 0.0024\n",
            "Epoch 58/100\n",
            "9/9 [==============================] - 1s 124ms/step - loss: 4.2822e-04 - val_loss: 0.0033\n",
            "Epoch 59/100\n",
            "9/9 [==============================] - 1s 123ms/step - loss: 3.7870e-04 - val_loss: 0.0043\n",
            "Epoch 60/100\n",
            "9/9 [==============================] - 1s 118ms/step - loss: 3.3918e-04 - val_loss: 0.0042\n",
            "Epoch 61/100\n",
            "9/9 [==============================] - 1s 122ms/step - loss: 3.6087e-04 - val_loss: 0.0053\n",
            "Epoch 62/100\n",
            "9/9 [==============================] - 1s 124ms/step - loss: 3.5067e-04 - val_loss: 0.0047\n",
            "Epoch 63/100\n",
            "9/9 [==============================] - 1s 125ms/step - loss: 3.4291e-04 - val_loss: 0.0050\n",
            "Epoch 64/100\n",
            "9/9 [==============================] - 1s 120ms/step - loss: 3.6451e-04 - val_loss: 0.0046\n",
            "Epoch 65/100\n",
            "9/9 [==============================] - 1s 121ms/step - loss: 3.6613e-04 - val_loss: 0.0051\n",
            "Epoch 66/100\n",
            "9/9 [==============================] - 1s 124ms/step - loss: 3.4264e-04 - val_loss: 0.0056\n",
            "Epoch 67/100\n",
            "9/9 [==============================] - 1s 120ms/step - loss: 3.7426e-04 - val_loss: 0.0052\n",
            "Epoch 68/100\n",
            "9/9 [==============================] - 1s 117ms/step - loss: 3.3848e-04 - val_loss: 0.0066\n",
            "Epoch 69/100\n",
            "9/9 [==============================] - 1s 124ms/step - loss: 3.8718e-04 - val_loss: 0.0046\n",
            "Epoch 70/100\n",
            "9/9 [==============================] - 1s 117ms/step - loss: 3.6529e-04 - val_loss: 0.0050\n",
            "Epoch 71/100\n",
            "9/9 [==============================] - 1s 117ms/step - loss: 3.5247e-04 - val_loss: 0.0055\n",
            "Epoch 72/100\n",
            "9/9 [==============================] - 1s 120ms/step - loss: 3.4745e-04 - val_loss: 0.0047\n",
            "Epoch 73/100\n",
            "9/9 [==============================] - 1s 116ms/step - loss: 3.1884e-04 - val_loss: 0.0047\n",
            "Epoch 74/100\n",
            "9/9 [==============================] - 1s 122ms/step - loss: 3.2065e-04 - val_loss: 0.0046\n",
            "Epoch 75/100\n",
            "9/9 [==============================] - 1s 119ms/step - loss: 3.5600e-04 - val_loss: 0.0049\n",
            "Epoch 76/100\n",
            "9/9 [==============================] - 1s 125ms/step - loss: 3.2212e-04 - val_loss: 0.0048\n",
            "Epoch 77/100\n",
            "9/9 [==============================] - 1s 122ms/step - loss: 3.3501e-04 - val_loss: 0.0042\n",
            "Epoch 78/100\n",
            "9/9 [==============================] - 1s 119ms/step - loss: 3.2759e-04 - val_loss: 0.0047\n",
            "Epoch 79/100\n",
            "9/9 [==============================] - 1s 122ms/step - loss: 3.1425e-04 - val_loss: 0.0073\n",
            "Epoch 80/100\n",
            "9/9 [==============================] - 1s 125ms/step - loss: 3.3353e-04 - val_loss: 0.0067\n",
            "Epoch 81/100\n",
            "9/9 [==============================] - 1s 122ms/step - loss: 2.8285e-04 - val_loss: 0.0064\n",
            "Epoch 82/100\n",
            "9/9 [==============================] - 1s 122ms/step - loss: 3.1743e-04 - val_loss: 0.0045\n",
            "Epoch 83/100\n",
            "9/9 [==============================] - 1s 124ms/step - loss: 3.3029e-04 - val_loss: 0.0040\n",
            "Epoch 84/100\n",
            "9/9 [==============================] - 1s 119ms/step - loss: 3.8681e-04 - val_loss: 0.0044\n",
            "Epoch 85/100\n",
            "9/9 [==============================] - 1s 128ms/step - loss: 2.9635e-04 - val_loss: 0.0056\n",
            "Epoch 86/100\n",
            "9/9 [==============================] - 1s 123ms/step - loss: 2.9090e-04 - val_loss: 0.0070\n",
            "Epoch 87/100\n",
            "9/9 [==============================] - 1s 126ms/step - loss: 3.2861e-04 - val_loss: 0.0074\n",
            "Epoch 88/100\n",
            "9/9 [==============================] - 1s 118ms/step - loss: 3.2784e-04 - val_loss: 0.0081\n",
            "Epoch 89/100\n",
            "9/9 [==============================] - 1s 120ms/step - loss: 3.2702e-04 - val_loss: 0.0074\n",
            "Epoch 90/100\n",
            "9/9 [==============================] - 1s 119ms/step - loss: 3.3842e-04 - val_loss: 0.0073\n",
            "Epoch 91/100\n",
            "9/9 [==============================] - 1s 127ms/step - loss: 3.1218e-04 - val_loss: 0.0079\n",
            "Epoch 92/100\n",
            "9/9 [==============================] - 1s 119ms/step - loss: 3.4477e-04 - val_loss: 0.0072\n",
            "Epoch 93/100\n",
            "9/9 [==============================] - 1s 121ms/step - loss: 3.0393e-04 - val_loss: 0.0061\n",
            "Epoch 94/100\n",
            "9/9 [==============================] - 1s 121ms/step - loss: 2.6903e-04 - val_loss: 0.0054\n",
            "Epoch 95/100\n",
            "9/9 [==============================] - 1s 120ms/step - loss: 3.1746e-04 - val_loss: 0.0042\n",
            "Epoch 96/100\n",
            "9/9 [==============================] - 1s 120ms/step - loss: 3.5477e-04 - val_loss: 0.0033\n",
            "Epoch 97/100\n",
            "9/9 [==============================] - 1s 127ms/step - loss: 3.6063e-04 - val_loss: 0.0034\n",
            "Epoch 98/100\n",
            "9/9 [==============================] - 1s 122ms/step - loss: 3.5218e-04 - val_loss: 0.0040\n",
            "Epoch 99/100\n",
            "9/9 [==============================] - 1s 120ms/step - loss: 2.6930e-04 - val_loss: 0.0043\n",
            "Epoch 100/100\n",
            "9/9 [==============================] - 1s 121ms/step - loss: 2.7117e-04 - val_loss: 0.0041\n"
          ],
          "name": "stdout"
        },
        {
          "output_type": "execute_result",
          "data": {
            "text/plain": [
              "<tensorflow.python.keras.callbacks.History at 0x7f03b11fd4a8>"
            ]
          },
          "metadata": {
            "tags": []
          },
          "execution_count": 68
        }
      ]
    },
    {
      "cell_type": "code",
      "metadata": {
        "id": "Lbw6qvvAI2Yn"
      },
      "source": [
        "train_predict=model.predict(x_train)\r\n",
        "test_predict=model.predict(x_test)"
      ],
      "execution_count": null,
      "outputs": []
    },
    {
      "cell_type": "code",
      "metadata": {
        "id": "AEsIfPb6JDrx"
      },
      "source": [
        "train_predict=scaler.inverse_transform(train_predict)\r\n",
        "test_predict=scaler.inverse_transform(test_predict)"
      ],
      "execution_count": null,
      "outputs": []
    },
    {
      "cell_type": "markdown",
      "metadata": {
        "id": "Q2U8T1t4J8b4"
      },
      "source": [
        "##Mean Squarred Mean"
      ]
    },
    {
      "cell_type": "code",
      "metadata": {
        "colab": {
          "base_uri": "https://localhost:8080/"
        },
        "id": "shTufskKJ59R",
        "outputId": "3c6560fd-4c2d-42c3-8a83-c562ba8f2439"
      },
      "source": [
        "import math\r\n",
        "from sklearn.metrics import mean_squared_error\r\n",
        "math.sqrt(mean_squared_error(y_train,train_predict))"
      ],
      "execution_count": null,
      "outputs": [
        {
          "output_type": "execute_result",
          "data": {
            "text/plain": [
              "1555.4770738399661"
            ]
          },
          "metadata": {
            "tags": []
          },
          "execution_count": 71
        }
      ]
    },
    {
      "cell_type": "code",
      "metadata": {
        "colab": {
          "base_uri": "https://localhost:8080/"
        },
        "id": "ZqXwa2KeKsZN",
        "outputId": "e3839163-c65e-471b-dd98-4a706d37fd9c"
      },
      "source": [
        "math.sqrt(mean_squared_error(y_test,test_predict))"
      ],
      "execution_count": null,
      "outputs": [
        {
          "output_type": "execute_result",
          "data": {
            "text/plain": [
              "2541.862802897271"
            ]
          },
          "metadata": {
            "tags": []
          },
          "execution_count": 72
        }
      ]
    },
    {
      "cell_type": "code",
      "metadata": {
        "colab": {
          "base_uri": "https://localhost:8080/",
          "height": 265
        },
        "id": "48f1m_z1LE9b",
        "outputId": "5da18fbd-20e1-4f90-833d-d47c7393f9cf"
      },
      "source": [
        "look_back=100\r\n",
        "trainpredictplot=np.empty_like(df_1)\r\n",
        "trainpredictplot[:, :]=np.nan\r\n",
        "trainpredictplot[look_back:len(train_predict)+look_back,:]+train_predict\r\n",
        "#Shif test predict for plot\r\n",
        "testpredictplot=np.empty_like(df_1)\r\n",
        "testpredictplot[:, :]=np.nan\r\n",
        "testpredictplot[len(train_predict)+(look_back*2)+1:len(df_1)-1:]=test_predict\r\n",
        "\r\n",
        "plt.plot(scaler.inverse_transform(df_1))\r\n",
        "plt.plot(trainpredictplot)\r\n",
        "plt.plot(testpredictplot)\r\n",
        "plt.show()"
      ],
      "execution_count": null,
      "outputs": [
        {
          "output_type": "display_data",
          "data": {
            "image/png": "[encoded data removed]",
            "text/plain": [
              "<Figure size 432x288 with 1 Axes>"
            ]
          },
          "metadata": {
            "tags": [],
            "needs_background": "light"
          }
        }
      ]
    },
    {
      "cell_type": "markdown",
      "metadata": {
        "id": "g7Uq0VCPPmig"
      },
      "source": [
        "##Prediction"
      ]
    },
    {
      "cell_type": "code",
      "metadata": {
        "id": "ojDjAGY9PXzu"
      },
      "source": [
        "day_new=np.arange(1,101)\r\n",
        "day_pred=np.arange(101,131)"
      ],
      "execution_count": null,
      "outputs": []
    },
    {
      "cell_type": "code",
      "metadata": {
        "colab": {
          "base_uri": "https://localhost:8080/"
        },
        "id": "n1hG-yejQE3V",
        "outputId": "217cb954-54cc-44bd-91dd-4f722610ce7e"
      },
      "source": [
        "len(df_1)"
      ],
      "execution_count": null,
      "outputs": [
        {
          "output_type": "execute_result",
          "data": {
            "text/plain": [
              "996"
            ]
          },
          "metadata": {
            "tags": []
          },
          "execution_count": 75
        }
      ]
    },
    {
      "cell_type": "code",
      "metadata": {
        "colab": {
          "base_uri": "https://localhost:8080/",
          "height": 268
        },
        "id": "ysDq9FzcQIPj",
        "outputId": "edbc159e-31c8-41b4-ccc6-1c6a6af2e9c6"
      },
      "source": [
        "x_input=test_data[248:].reshape(1,-1)\r\n",
        "temp_input=list(x_input)\r\n",
        "temp_input=temp_input[0].tolist()\r\n",
        "\r\n",
        "from numpy import array\r\n",
        "lst_output=[]\r\n",
        "n_steps=100\r\n",
        "i=0\r\n",
        "while(i<30):\r\n",
        "  if(len(temp_input)>100):\r\n",
        "    x_input=np.array(temp_input[1:])\r\n",
        "    x_input=x_input.reshape((1, n_steps, 1))\r\n",
        "    yhat = model.predict(x_input, verbose=0)\r\n",
        "    temp_input.extend(yhat[0].tolist())\r\n",
        "    temp_input=temp_input[1:]\r\n",
        "    lst_output.extend(yhat.tolist())\r\n",
        "    i=i+1\r\n",
        "  else:\r\n",
        "    x_input = x_input.reshape((1, n_steps,1))\r\n",
        "    yhat = model.predict(x_input, verbose=0)\r\n",
        "    temp_input.extend(yhat[0].tolist())\r\n",
        "    list_output.extend(yhat.tolist())\r\n",
        "    i=i+1\r\n",
        "\r\n",
        "plt.plot(day_new,scaler.inverse_transform(df_1[896:]))\r\n",
        "plt.plot(day_pred,scaler.inverse_transform(lst_output));"
      ],
      "execution_count": null,
      "outputs": [
        {
          "output_type": "display_data",
          "data": {
            "image/png": "[encoded data removed]",
            "text/plain": [
              "<Figure size 432x288 with 1 Axes>"
            ]
          },
          "metadata": {
            "tags": [],
            "needs_background": "light"
          }
        }
      ]
    },
    {
      "cell_type": "code",
      "metadata": {
        "id": "WhAN9nrcVRNu",
        "colab": {
          "base_uri": "https://localhost:8080/",
          "height": 265
        },
        "outputId": "1dc4808f-4314-4348-e994-d2490bff0eff"
      },
      "source": [
        "df3=df_1.tolist()\r\n",
        "df3.extend(lst_output)\r\n",
        "plt.plot(df3[780]);"
      ],
      "execution_count": null,
      "outputs": [
        {
          "output_type": "display_data",
          "data": {
            "image/png": "[encoded data removed]",
            "text/plain": [
              "<Figure size 432x288 with 1 Axes>"
            ]
          },
          "metadata": {
            "tags": [],
            "needs_background": "light"
          }
        }
      ]
    },
    {
      "cell_type": "code",
      "metadata": {
        "id": "XQvInWWV8LJv",
        "colab": {
          "base_uri": "https://localhost:8080/",
          "height": 282
        },
        "outputId": "859c1d37-3a61-441b-8407-a95023482ae7"
      },
      "source": [
        "df3=scaler.inverse_transform(df3).tolist()\r\n",
        "plt.plot(df3)"
      ],
      "execution_count": null,
      "outputs": [
        {
          "output_type": "execute_result",
          "data": {
            "text/plain": [
              "[<matplotlib.lines.Line2D at 0x7f03aef38710>]"
            ]
          },
          "metadata": {
            "tags": []
          },
          "execution_count": 80
        },
        {
          "output_type": "display_data",
          "data": {
            "image/png": "[encoded data removed]",
            "text/plain": [
              "<Figure size 432x288 with 1 Axes>"
            ]
          },
          "metadata": {
            "tags": [],
            "needs_background": "light"
          }
        }
      ]
    }
  ]
}